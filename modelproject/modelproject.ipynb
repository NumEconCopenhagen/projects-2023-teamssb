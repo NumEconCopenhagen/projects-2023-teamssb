{
 "cells": [
  {
   "attachments": {},
   "cell_type": "markdown",
   "metadata": {},
   "source": [
    "# Assignment 3: Model project\n"
   ]
  },
  {
   "attachments": {},
   "cell_type": "markdown",
   "metadata": {},
   "source": [
    "In this project we look at the Malthusian model. First we introduce the basic Malthusian model as given in the lacture note of Dalgaard (2014). This model shows that changes in income per capita is only transitory and will result in changes in population size. We show how the population level depends on different parameters in this model and, importantly, we show that allowing for technological growth does not change the conclusion of the model. \n",
    "\n",
    "Next, we move on to show the microfoundations fo how the model works and how taxes affect the population size and income per capita. Using a quantity/quality approach we offer an explanation for how humanity escaped the malthusian trap following the logic of Galor & Weil (2000). \n",
    "\n",
    "Lastly, we describe how the Brent-Method used for the numerical solution works."
   ]
  },
  {
   "attachments": {},
   "cell_type": "markdown",
   "metadata": {},
   "source": [
    "Imports and set magics:"
   ]
  },
  {
   "cell_type": "code",
   "execution_count": 1,
   "metadata": {},
   "outputs": [],
   "source": [
    "# importing relevant modules \n",
    "from types import SimpleNamespace\n",
    "from scipy import optimize\n",
    "import sympy as sm\n",
    "import math\n",
    "import ipywidgets as widgets\n",
    "import matplotlib.pyplot as plt\n",
    "\n",
    "# autoreload modules when code is run\n",
    "%load_ext autoreload\n",
    "%autoreload 2\n",
    "\n",
    "# import pyfile with model solver\n",
    "from modelproject import MalthusModelClass \n",
    "from modelproject import MalthusMicroModelClass\n",
    "from modelproject import QualityQuantity"
   ]
  },
  {
   "attachments": {},
   "cell_type": "markdown",
   "metadata": {},
   "source": [
    "**Table of contents**<a id='toc0_'></a>    \n",
    "- 1. [The simpel Malthusian model](#toc1)     \n",
    "- 2. [The Malthusian model with technological growth](#toc2_)\n",
    "- 3. [Microfoundations 1 and a tax experiment:](#toc3_)    \n",
    "- 4. [Microfoundations 2: Quantity/quality tradeoff:](#toc4_)\n",
    "- 5. [The brentq root finder:](#toc5_)\n",
    "- 6. [Conclusion](#toc6_)\n"
   ]
  },
  {
   "attachments": {},
   "cell_type": "markdown",
   "metadata": {},
   "source": [
    "## 1. <a id='toc1'></a>[The simple Malthusian model](#toc0_)"
   ]
  },
  {
   "attachments": {},
   "cell_type": "markdown",
   "metadata": {},
   "source": [
    "**<span style=\"font-size:1.5em;\">1.1: The Malthusian Model</span>**\n",
    "\n",
    "The Malthusian model has two important assumptions: 1) diminishing marginal product to labor and 2) a positive connection between income per capita and the birth rate. To incoorporate diminishing returns we assume a Cobb-Douglas production function.\n",
    "\n",
    "\\begin{align*}\n",
    "Y_t=L_t^{(1-\\alpha)} \\cdot (A \\cdot X)^\\alpha, \\quad \\text{where} \\quad 0<\\alpha<1 \n",
    "\\end{align*}\n",
    "\n",
    "$Y_t$ is output, $A$ is the level of technology, $L_t$ is labor input, and $X$ is land. We can write income per capita as follows:\n",
    "\n",
    "\\begin{align*}\n",
    "y_t=\\bigg(\\frac{A\\cdot X}{L_t}\\bigg)^\\alpha \n",
    "\\end{align*}\n",
    "\n",
    "To capture the positive connection between income per capita and the the birth rate assume that $n_t = \\eta y_t$\n",
    "\n",
    "The size of the labor force is assumed to be equal to the population size. This means that the labor force dynamics is given by the following equation:\n",
    "\n",
    "\\begin{align*}\n",
    "L_{t+1}=n_t\\cdot L_t+(1+\\mu)\\cdot L_t, \\quad \\text{where $L_0$ is given}  \n",
    "\\end{align*}\n",
    "\n",
    "In this way $\\mu$ is mortality.\n",
    "\n",
    "Combining the above equations, we obtain\n",
    "\\begin{alignat*}{5}\n",
    "L_{t+1}&&=\\eta \\cdot L_t^{(1-\\alpha)} \\cdot (A\\cdot X)^\\alpha+(1-\\mu)\\cdot L_t \\\\\n",
    "\\end{alignat*}\n",
    "\n",
    "Steady state level of $L$ is given by:\n",
    "$$\n",
    "L^\\ast=\\bigg(\\frac{\\eta}{\\mu}\\bigg)^{\\frac{1}{\\alpha}} AX \\\\\n",
    "$$\n",
    "\n",
    "Inserting this in $y_t$ gives:\n",
    "$$\n",
    "y^\\ast=\\frac{\\mu}{\\eta}\n",
    "$$\n",
    "****"
   ]
  },
  {
   "attachments": {},
   "cell_type": "markdown",
   "metadata": {},
   "source": [
    "Doing comparative statics on the steady state for the labor force shows that the size of the labor force depends positively on the level of technology, $A$, the amount of land, $X$ and the the preferences for having children, $\\eta$. It depends negatively on mortality, $\\mu$. \n",
    "\n",
    "This is illustrated in the plot below where the steady state size of the labor force/population changes for given parameters. "
   ]
  },
  {
   "cell_type": "code",
   "execution_count": 2,
   "metadata": {},
   "outputs": [
    {
     "data": {
      "application/vnd.jupyter.widget-view+json": {
       "model_id": "033f538b19a54aba96db82cc4ceb3c3a",
       "version_major": 2,
       "version_minor": 0
      },
      "text/plain": [
       "interactive(children=(FloatSlider(value=0.3333333333333333, description='alpha', max=0.65, min=0.01, step=0.02…"
      ]
     },
     "metadata": {},
     "output_type": "display_data"
    }
   ],
   "source": [
    "model = MalthusModelClass() # call class\n",
    "model.plot_widget()"
   ]
  },
  {
   "attachments": {},
   "cell_type": "markdown",
   "metadata": {},
   "source": [
    "Furhter, we can solve the steady state income numerically as well as confirm the steady state from the plot: "
   ]
  },
  {
   "cell_type": "code",
   "execution_count": 3,
   "metadata": {},
   "outputs": [
    {
     "name": "stdout",
     "output_type": "stream",
     "text": [
      "The income per capita in steady state for given parameter values is 1.000\n",
      "The population in steady state for given parameter values is 36.000\n",
      "The population density in steady state for given parameter values is 9.000\n"
     ]
    }
   ],
   "source": [
    "# Find steady state income\n",
    "print(f'The income per capita in steady state for given parameter values is {model.find_ss_y():.3f}')\n",
    "\n",
    "# Find steady state population \n",
    "print(f'The population in steady state for given parameter values is {model.find_ss_l():.3f}')\n",
    "\n",
    "# Find steady state populaiton density \n",
    "print(f'The population density in steady state for given parameter values is {model.find_ss_l()/model.par.X:.3f}')\n"
   ]
  },
  {
   "attachments": {},
   "cell_type": "markdown",
   "metadata": {},
   "source": [
    "The plot shows that the law of motion for the population intersects with the 45 degree line exactly at this value, such that the population/labor force will not increase any more."
   ]
  },
  {
   "attachments": {},
   "cell_type": "markdown",
   "metadata": {},
   "source": [
    "## 2. <a id='toc2_'></a>[The Malthusian model with technological growth](#toc0_)"
   ]
  },
  {
   "attachments": {},
   "cell_type": "markdown",
   "metadata": {},
   "source": [
    "We can extend basic Malthus model to allow for technological growth. \n",
    "\n",
    "$$ \\frac{A_{t+1}}{A_t}=g > 1 $$\n",
    "\n",
    "\n",
    "Define: $l_t=\\frac{L_t}{A_T}$ and use that $\\frac{L_{t+1}}{A_t}=\\frac{L_{t+1}}{A_{t+1}}\\frac{A_{t+1}}{A_t}=l_{t+1}g$. This gives the following law of motion for the population size:\n",
    "\n",
    "\n",
    "$$\n",
    "l_{t+1} =\\eta g^{-1} l_t^{1-\\alpha} X^\\alpha + g^{-1}(1-\\mu)l_t, \\ \\ l_0 \\ \\text{given} \n",
    "$$"
   ]
  },
  {
   "attachments": {},
   "cell_type": "markdown",
   "metadata": {},
   "source": [
    "The following plot shows how the steady state depends on given parameters:"
   ]
  },
  {
   "cell_type": "code",
   "execution_count": 4,
   "metadata": {},
   "outputs": [
    {
     "data": {
      "application/vnd.jupyter.widget-view+json": {
       "model_id": "387b49fd1ef84da59b51df12a77af75c",
       "version_major": 2,
       "version_minor": 0
      },
      "text/plain": [
       "interactive(children=(FloatSlider(value=0.3333333333333333, description='alpha', max=0.65, min=0.01, step=0.02…"
      ]
     },
     "metadata": {},
     "output_type": "display_data"
    }
   ],
   "source": [
    "model = MalthusModelClass() # call class\n",
    "model.plot_widget_tech()"
   ]
  },
  {
   "attachments": {},
   "cell_type": "markdown",
   "metadata": {},
   "source": [
    "To better understand the dynamics we can plot the development in the actual labor force/population:"
   ]
  },
  {
   "cell_type": "code",
   "execution_count": 5,
   "metadata": {},
   "outputs": [
    {
     "data": {
      "image/png": "[encoded data removed]",
      "text/plain": [
       "<Figure size 500x500 with 1 Axes>"
      ]
     },
     "metadata": {},
     "output_type": "display_data"
    }
   ],
   "source": [
    "model = MalthusModelClass()\n",
    "\n",
    "model.simulate_malthus_l_tech(100)"
   ]
  },
  {
   "attachments": {},
   "cell_type": "markdown",
   "metadata": {},
   "source": [
    "In the steady state we have that \n",
    "\n",
    "$$\n",
    "y^*=\\left[(A X / L)^*\\right]^\\alpha=\\frac{g+\\mu-1}{\\eta}> \\frac{\\mu}{\\eta}\n",
    "$$\n",
    "\n",
    "This shows that the steady state income per capita is sligthly higher when there is technological growth. The difference is  very little, considering that we have allowed for exponential growth in technology."
   ]
  },
  {
   "cell_type": "code",
   "execution_count": 6,
   "metadata": {},
   "outputs": [
    {
     "name": "stdout",
     "output_type": "stream",
     "text": [
      "The transformed population in steady state for given parameter values is 0.952\n",
      "The income per capita in steady state for given parameter values is 1.050\n"
     ]
    }
   ],
   "source": [
    "model = MalthusModelClass()\n",
    "\n",
    "#Find steady state population \n",
    "print(f'The transformed population in steady state for given parameter values is {model.find_ss_lx_tech():.3f}')\n",
    "\n",
    "# Find steady state technology adjusted populaiton\n",
    "print(f'The income per capita in steady state for given parameter values is {model.find_ss_y_tech():.3f}')\n"
   ]
  },
  {
   "cell_type": "code",
   "execution_count": 7,
   "metadata": {},
   "outputs": [
    {
     "name": "stdout",
     "output_type": "stream",
     "text": [
      "The difference in income per capita w/wo technological growth is 0.050\n"
     ]
    }
   ],
   "source": [
    "#Calculate differenc in income per capita w/wo technological growth\n",
    "print(f'The difference in income per capita w/wo technological growth is {model.find_ss_y_tech()-model.find_ss_y():.3f}')"
   ]
  },
  {
   "attachments": {},
   "cell_type": "markdown",
   "metadata": {},
   "source": [
    "This shows that income per capita stagnates a level that is a little higher than the level without exponential growth. Exponential growth in technology is not able to create permanent growth in income per capita. "
   ]
  },
  {
   "attachments": {},
   "cell_type": "markdown",
   "metadata": {},
   "source": [
    "## 3. <a id='toc3_'></a>[Microfoundations 1 and a tax experiment:](#toc0_)\n",
    "\n",
    "For simplicity assume that all agents receive the average income $y_t$. The budget constraint is then\n",
    "$$\n",
    "c_t+\\delta n_t=y_t(1-\\tau)\n",
    "$$\n",
    "where $c_t$ is consumpion and $\\delta$ is the relative price of children.\n",
    "\n",
    "The utility function is then given as:\n",
    "$$\n",
    "u_t=\\beta \\log(c_t)+(1-\\beta)\\log(n_t)\n",
    "$$\n",
    "By substitution of the budget constraint, the agents solves the following problem in when choosing between consumption of goods and expenses children.\n",
    "$$\n",
    "\\max_{n_t} \\quad u_t=\\beta(y_t(1-\\tau)-\\delta n_t)+(1-\\beta)\\log(n_t)\n",
    "$$"
   ]
  },
  {
   "attachments": {},
   "cell_type": "markdown",
   "metadata": {},
   "source": [
    "We can use **Sympy** to solve the maximization problem:"
   ]
  },
  {
   "cell_type": "code",
   "execution_count": 8,
   "metadata": {},
   "outputs": [
    {
     "name": "stdout",
     "output_type": "stream",
     "text": [
      "We set up the utility function that we want to maximize:\n"
     ]
    },
    {
     "data": {
      "text/latex": [
       "$\\displaystyle \\max_{n_t}u_t = \\beta \\log{\\left(- \\delta n + y \\left(1 - \\tau\\right) \\right)} + \\left(1 - \\beta\\right) \\log{\\left(n \\right)}$"
      ],
      "text/plain": [
       "Eq(\\max_{n_t}u_t, beta*log(-delta*n + y*(1 - tau)) + (1 - beta)*log(n))"
      ]
     },
     "metadata": {},
     "output_type": "display_data"
    },
    {
     "name": "stdout",
     "output_type": "stream",
     "text": [
      "Next we find the first order condition with respect to n\n"
     ]
    },
    {
     "data": {
      "text/latex": [
       "$\\displaystyle \\frac{\\partial\\\\u_t}{\\partial\\\\n_t} = - \\frac{\\beta \\delta}{- \\delta n + y \\left(1 - \\tau\\right)} + \\frac{1 - \\beta}{n}$"
      ],
      "text/plain": [
       "Eq(\\frac{\\partial\\\\u_t}{\\partial\\\\n_t}, -beta*delta/(-delta*n + y*(1 - tau)) + (1 - beta)/n)"
      ]
     },
     "metadata": {},
     "output_type": "display_data"
    },
    {
     "name": "stdout",
     "output_type": "stream",
     "text": [
      "Finally, we solve the first-order condition and find n*\n"
     ]
    },
    {
     "data": {
      "text/latex": [
       "$\\displaystyle n^{\\ast} = \\frac{y \\left(\\beta \\tau - \\beta - \\tau + 1\\right)}{\\delta}$"
      ],
      "text/plain": [
       "Eq(n^{\\ast}, y*(beta*tau - beta - tau + 1)/delta)"
      ]
     },
     "metadata": {},
     "output_type": "display_data"
    }
   ],
   "source": [
    "model = MalthusMicroModelClass() # call class\n",
    "model.maximization()"
   ]
  },
  {
   "attachments": {},
   "cell_type": "markdown",
   "metadata": {},
   "source": [
    "We can the solve the housheold problem numerically for given income, $y=100$\n"
   ]
  },
  {
   "cell_type": "code",
   "execution_count": 9,
   "metadata": {},
   "outputs": [
    {
     "name": "stdout",
     "output_type": "stream",
     "text": [
      "Optimal consumption: 71.99\n",
      "Optimal number of off spring: 9.00\n"
     ]
    }
   ],
   "source": [
    "model = MalthusMicroModelClass() # call class\n",
    "model.solve() # solving model"
   ]
  },
  {
   "attachments": {},
   "cell_type": "markdown",
   "metadata": {},
   "source": [
    "Since we now have microfoundations of fertility, we can find a new steady state for the model which means that $L_{t+1}$ must be redefined:"
   ]
  },
  {
   "attachments": {},
   "cell_type": "markdown",
   "metadata": {},
   "source": [
    "\\begin{align*}\n",
    "L_{t+1}&=n_t\\cdot L_t+(1-\\mu)\\cdot L_t  \\\\\n",
    "L_{t+1}&=y\\cdot\\frac{\\beta \\tau-\\beta-\\tau+1}{\\delta} \\cdot L_t+(1-\\mu)\\cdot L_t\\\\\n",
    "L_{t+1}&=\\bigg(\\frac{A\\cdot X}{L_t}\\bigg)^\\alpha \\cdot\\frac{\\beta \\tau-\\beta-\\tau+1}{\\delta} \\cdot L_t+(1-\\mu)\\cdot L_t\\\\\n",
    "L_{t+1}&=\\frac{\\beta \\tau-\\beta-\\tau+1}{\\delta} \\cdot (A\\cdot X)^\\alpha \\cdot L_t^{1-\\alpha}+(1-\\mu)\\cdot L_t \\\\\n",
    " \\\\\n",
    "L_{t+1}&=\\eta \\cdot (A\\cdot X)^\\alpha \\cdot L_t^{1-\\alpha}+(1-\\mu)\\cdot L_t, \\quad \\text{where $\\eta$ is defined as } \\eta\\equiv\\frac{\\beta \\tau-\\beta-\\tau+1}{\\delta} \n",
    "\\end{align*}"
   ]
  },
  {
   "attachments": {},
   "cell_type": "markdown",
   "metadata": {},
   "source": [
    "We can then again simulate the law of motion for the labor force and this time experiment with how the tax affects steady state for the labor force: "
   ]
  },
  {
   "cell_type": "code",
   "execution_count": 10,
   "metadata": {},
   "outputs": [
    {
     "data": {
      "application/vnd.jupyter.widget-view+json": {
       "model_id": "2ec7975994584e00bd1854325ccd4852",
       "version_major": 2,
       "version_minor": 0
      },
      "text/plain": [
       "interactive(children=(FloatSlider(value=0.1, description='tau', max=0.8, min=0.01, step=0.01), Output()), _dom…"
      ]
     },
     "metadata": {},
     "output_type": "display_data"
    }
   ],
   "source": [
    "model.plot_widget()"
   ]
  },
  {
   "attachments": {},
   "cell_type": "markdown",
   "metadata": {},
   "source": [
    "We note that when individuals face tax, it lowers the size of the labor force in the long-run. However, this does not mean that **after-tax** income income increases. The after tax income is given by \n",
    "\n",
    "$$\n",
    "y^d = (1-\\tau)y\n",
    "$$\n",
    "\n",
    "and is unaffected by the by the tax in steady state. As the plot suggests, a tax will just lower the labor force and the disposable income will be unchanged. Hence, such a tax policy is ineffective in affecting living standards in the Malthusian world. We say that the \"deadweight loss\" from taxation is zero evaluated in steady state. "
   ]
  },
  {
   "attachments": {},
   "cell_type": "markdown",
   "metadata": {},
   "source": [
    "## 4. <a id='toc4_'></a>[Microfoundations 2: Quantity/quality tradeoff:](#toc0_)\n"
   ]
  },
  {
   "attachments": {},
   "cell_type": "markdown",
   "metadata": {},
   "source": [
    "Next up, we want to investigate one microfounded theory for how some economies esscaped the Malthusian trap by going through the demograhic transition. The demographic transition refers to a theory that describes the historical shift of birth and death rates in a population as it undergoes industrialization and economic development. It suggests a transition from high birth and death rates to low birth and death rates over time.\n",
    "\n",
    "The idea that we will implement is the quantity/quality trade-off the parents face. The basic idea is that an increasing need for \"quality investments\" in children lead to lower fertility. The theory goes back to Becker (1960) and we implement it based on Galor and Weil (2000).\n",
    "\n",
    "We investigate the quality/quantity tradeoff for parents. This tradeoff emphasizes the balance between how many children the parents decide to have and how much money they are able to spend on each child. Letting technological growth increase the investments in children can show how the demographic transition happened.\n",
    "\n",
    "Assume the following preferences for the households:\n",
    "\n",
    "$$\n",
    "u(c,n) = (1-\\gamma)\\log(c) + \\gamma[\\log(n)+\\beta \\log(h)],\n",
    "$$\n",
    "\n",
    "where $ \\gamma,\\beta  \\in (0.1)$ and $h$ is humancapital. Assume for simplicity that $h(e,g)=\\frac{e}{e+g}$. \n",
    "\n",
    "The budget constraint is: $yn(\\tau^q+\\tau^ee)+c = y$, where $\\tau^q$ is the basic investements in humancapital (food and cloth) and $\\tau^e$ is additional investments in humancapital (schooling, healthy diet). "
   ]
  },
  {
   "cell_type": "code",
   "execution_count": 11,
   "metadata": {},
   "outputs": [
    {
     "name": "stdout",
     "output_type": "stream",
     "text": [
      "Optimal consumption: 50.00\n",
      "Optimal number of off spring: 0.64\n",
      "Optimal education investments: 0.470\n"
     ]
    }
   ],
   "source": [
    "model = QualityQuantity() # call class\n",
    "model.solve()"
   ]
  },
  {
   "attachments": {},
   "cell_type": "markdown",
   "metadata": {},
   "source": [
    "Note that the numerical optimizaiton here is quite sensitive to given parameters. The key result however is that \n",
    "\n",
    "$$\\frac{\\partial n}{\\partial g} <0, \\ \\ \\frac{\\partial e}{\\partial g} >0 $$  \n",
    "\n",
    "Meaning that when technology grows faster it drives down fertility $n$ and drives up the education investments.\n",
    "\n",
    "This is according to Ashraf & Galor (2011) one of the key explanations of the demographic transition.\n"
   ]
  },
  {
   "attachments": {},
   "cell_type": "markdown",
   "metadata": {},
   "source": [
    "## 5. <a id='toc5_'></a>[The brentq root finder](#toc0_)"
   ]
  },
  {
   "attachments": {},
   "cell_type": "markdown",
   "metadata": {},
   "source": [
    "In solving the Malthus model numerically, we have chosen to use the Brent-Method. Specifically we have been using the brentq from SciPy, which is based on the Brent Method. \n",
    "\n",
    "Here we provide a description how it combines the bisection method we have seen in the course with quadratic interpolation.\n",
    "\n"
   ]
  },
  {
   "attachments": {},
   "cell_type": "markdown",
   "metadata": {},
   "source": [
    "\n",
    "The **Brent-Method** is considered one of the best root-finding algorithms.\n",
    "\n",
    "**Input**: A function f(x) to find the root of, and an initial bracket [a, b] containing the root.\n",
    "\n",
    "**Output**: An approximation of the root.\n",
    "\n",
    "Basically, Brent's method that is used in the **brenq** SciPy method combines the bisection method that we have seen in the lectures with secant methods and quadratic interpolation methods. The method iteratively narrows down the interval containing the root by selecting trial point based on the behaviour of the function. The algorithm chooses the interpolation method that gives the most accurate estimate. This is what makes it very robust in root-finding.   \n",
    "\n",
    "For a good description of Brent's method implemented as an algorithm, se here: https://mathsfromnothing.au/brents-method/?i=1\n"
   ]
  },
  {
   "attachments": {},
   "cell_type": "markdown",
   "metadata": {},
   "source": [
    "## 6. <a id='toc6_'></a>[Conclusion:](#toc0_)"
   ]
  },
  {
   "attachments": {},
   "cell_type": "markdown",
   "metadata": {},
   "source": [
    "In this project we have looked at some of the key characteristics of a Malthusian economy and the resulting macro dynamics. We have shown how the assumptions about how fertility is related to income is crucial. Further we have shown that even when we allow for technological growth we have stagnation of income and the gains only result in a larger labor force. By implementing a microfoundation we have shown that income taxes only result in different labor force size and only slightly different income levels. Lastly, we have shown the the dmeographic transition and thus the escape from the Malthusian trap can be motivated by the quantity/quality tradeoff hypothesis as a microfoundations in the Malthus model. "
   ]
  }
 ],
 "metadata": {
  "kernelspec": {
   "display_name": "base",
   "language": "python",
   "name": "python3"
  },
  "language_info": {
   "codemirror_mode": {
    "name": "ipython",
    "version": 3
   },
   "file_extension": ".py",
   "mimetype": "text/x-python",
   "name": "python",
   "nbconvert_exporter": "python",
   "pygments_lexer": "ipython3",
   "version": "3.9.16"
  },
  "orig_nbformat": 4
 },
 "nbformat": 4,
 "nbformat_minor": 2
}
